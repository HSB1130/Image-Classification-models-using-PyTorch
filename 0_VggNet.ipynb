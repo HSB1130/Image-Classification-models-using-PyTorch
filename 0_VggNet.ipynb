{
 "cells": [
  {
   "cell_type": "code",
   "execution_count": 8,
   "metadata": {},
   "outputs": [],
   "source": [
    "import torch\n",
    "from torch import nn\n",
    "from torchinfo import summary\n",
    "import numpy as np"
   ]
  },
  {
   "cell_type": "code",
   "execution_count": 2,
   "metadata": {},
   "outputs": [],
   "source": [
    "cfgs =  {\n",
    "            \"A\" : [64, \"M\", 128, \"M\", 256, 256, \"M\", 512, 512, \"M\", 512, 512, \"M\"],\n",
    "            \"B\" : [64, 64, \"M\", 128, 128, \"M\", 256, 256, \"M\", 512, 512, \"M\", 512, 512, \"M\"],\n",
    "            \"D\" : [64, 64, \"M\", 128, 128, \"M\", 256, 256, 256, \"M\", 512, 512, 512, \"M\", 512, 512, 512, \"M\"],\n",
    "            \"E\" : [64, 64, \"M\", 128, 128, \"M\", 256, 256, 256, 256, \"M\", 512, 512, 512, 512, \"M\", 512, 512, 512, 512, \"M\"] \n",
    "        }"
   ]
  },
  {
   "cell_type": "code",
   "execution_count": 11,
   "metadata": {},
   "outputs": [],
   "source": [
    "class VggNet(nn.Module):\n",
    "    def __init__(self, cfg, num_classes=1000):\n",
    "        super().__init__()\n",
    "\n",
    "        self.features = self.make_layers(cfg)\n",
    "        self.AdaptAvgPool = nn.AdaptiveAvgPool2d((7, 7))\n",
    "        self.classifier = nn.Sequential(\n",
    "                                        nn.Linear(512*7*7, 4096),\n",
    "                                        nn.ReLU(),\n",
    "                                        nn.Linear(4096, 4096),\n",
    "                                        nn.ReLU(),\n",
    "                                        nn.Linear(4096, num_classes))\n",
    "        \n",
    "        # weight, bias initialization\n",
    "        for module in self.modules():\n",
    "            if isinstance(module, nn.Conv2d):\n",
    "                nn.init.kaiming_normal_(module.weight)\n",
    "                nn.init.constant_(module.bias, 0.0)\n",
    "            elif isinstance(module, nn.Linear):\n",
    "                nn.init.normal_(module.weight, mean=0, std=0.01)\n",
    "                nn.init.constant_(module.bias, 0.0)\n",
    "    \n",
    "    def forward(self, x):\n",
    "        x = self.features(x)\n",
    "        x = self.AdaptAvgPool(x)\n",
    "        x = torch.flatten(x, start_dim=1)\n",
    "        x = self.classifier(x)\n",
    "        return x\n",
    "    \n",
    "    def make_layers(self, cfg):\n",
    "        layers = []\n",
    "        curr_channel = 3\n",
    "\n",
    "        for cmd in cfg:\n",
    "            if type(cmd) == int:\n",
    "                layers += [ nn.Conv2d(curr_channel, cmd, 3, padding=1),\n",
    "                            nn.BatchNorm2d(cmd),\n",
    "                            nn.ReLU()]\n",
    "                curr_channel = cmd\n",
    "            else:\n",
    "                layers += [nn.MaxPool2d(2, 2)]\n",
    "        \n",
    "        return nn.Sequential(*layers)"
   ]
  },
  {
   "cell_type": "code",
   "execution_count": 12,
   "metadata": {},
   "outputs": [
    {
     "data": {
      "text/plain": [
       "==========================================================================================\n",
       "Layer (type:depth-idx)                   Output Shape              Param #\n",
       "==========================================================================================\n",
       "VggNet                                   [64, 1000]                --\n",
       "├─Sequential: 1-1                        [64, 512, 1, 1]           --\n",
       "│    └─Conv2d: 2-1                       [64, 64, 32, 32]          1,792\n",
       "│    └─BatchNorm2d: 2-2                  [64, 64, 32, 32]          128\n",
       "│    └─ReLU: 2-3                         [64, 64, 32, 32]          --\n",
       "│    └─MaxPool2d: 2-4                    [64, 64, 16, 16]          --\n",
       "│    └─Conv2d: 2-5                       [64, 128, 16, 16]         73,856\n",
       "│    └─BatchNorm2d: 2-6                  [64, 128, 16, 16]         256\n",
       "│    └─ReLU: 2-7                         [64, 128, 16, 16]         --\n",
       "│    └─MaxPool2d: 2-8                    [64, 128, 8, 8]           --\n",
       "│    └─Conv2d: 2-9                       [64, 256, 8, 8]           295,168\n",
       "│    └─BatchNorm2d: 2-10                 [64, 256, 8, 8]           512\n",
       "│    └─ReLU: 2-11                        [64, 256, 8, 8]           --\n",
       "│    └─Conv2d: 2-12                      [64, 256, 8, 8]           590,080\n",
       "│    └─BatchNorm2d: 2-13                 [64, 256, 8, 8]           512\n",
       "│    └─ReLU: 2-14                        [64, 256, 8, 8]           --\n",
       "│    └─MaxPool2d: 2-15                   [64, 256, 4, 4]           --\n",
       "│    └─Conv2d: 2-16                      [64, 512, 4, 4]           1,180,160\n",
       "│    └─BatchNorm2d: 2-17                 [64, 512, 4, 4]           1,024\n",
       "│    └─ReLU: 2-18                        [64, 512, 4, 4]           --\n",
       "│    └─Conv2d: 2-19                      [64, 512, 4, 4]           2,359,808\n",
       "│    └─BatchNorm2d: 2-20                 [64, 512, 4, 4]           1,024\n",
       "│    └─ReLU: 2-21                        [64, 512, 4, 4]           --\n",
       "│    └─MaxPool2d: 2-22                   [64, 512, 2, 2]           --\n",
       "│    └─Conv2d: 2-23                      [64, 512, 2, 2]           2,359,808\n",
       "│    └─BatchNorm2d: 2-24                 [64, 512, 2, 2]           1,024\n",
       "│    └─ReLU: 2-25                        [64, 512, 2, 2]           --\n",
       "│    └─Conv2d: 2-26                      [64, 512, 2, 2]           2,359,808\n",
       "│    └─BatchNorm2d: 2-27                 [64, 512, 2, 2]           1,024\n",
       "│    └─ReLU: 2-28                        [64, 512, 2, 2]           --\n",
       "│    └─MaxPool2d: 2-29                   [64, 512, 1, 1]           --\n",
       "├─AdaptiveAvgPool2d: 1-2                 [64, 512, 7, 7]           --\n",
       "├─Sequential: 1-3                        [64, 1000]                --\n",
       "│    └─Linear: 2-30                      [64, 4096]                102,764,544\n",
       "│    └─ReLU: 2-31                        [64, 4096]                --\n",
       "│    └─Linear: 2-32                      [64, 4096]                16,781,312\n",
       "│    └─ReLU: 2-33                        [64, 4096]                --\n",
       "│    └─Linear: 2-34                      [64, 1000]                4,097,000\n",
       "==========================================================================================\n",
       "Total params: 132,868,840\n",
       "Trainable params: 132,868,840\n",
       "Non-trainable params: 0\n",
       "Total mult-adds (Units.GIGABYTES): 17.70\n",
       "==========================================================================================\n",
       "Input size (MB): 0.79\n",
       "Forward/backward pass size (MB): 159.90\n",
       "Params size (MB): 531.48\n",
       "Estimated Total Size (MB): 692.16\n",
       "=========================================================================================="
      ]
     },
     "execution_count": 12,
     "metadata": {},
     "output_type": "execute_result"
    }
   ],
   "source": [
    "model = VggNet(cfgs['A'], num_classes=1000)\n",
    "summary(model, (64, 3, 32, 32))"
   ]
  },
  {
   "cell_type": "code",
   "execution_count": null,
   "metadata": {},
   "outputs": [],
   "source": []
  }
 ],
 "metadata": {
  "kernelspec": {
   "display_name": "pytorch",
   "language": "python",
   "name": "python3"
  },
  "language_info": {
   "codemirror_mode": {
    "name": "ipython",
    "version": 3
   },
   "file_extension": ".py",
   "mimetype": "text/x-python",
   "name": "python",
   "nbconvert_exporter": "python",
   "pygments_lexer": "ipython3",
   "version": "3.12.2"
  }
 },
 "nbformat": 4,
 "nbformat_minor": 2
}
